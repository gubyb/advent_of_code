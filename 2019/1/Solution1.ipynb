{
 "cells": [
  {
   "cell_type": "markdown",
   "metadata": {},
   "source": [
    "--- Day 1: The Tyranny of the Rocket Equation ---\n",
    "Santa has become stranded at the edge of the Solar System while delivering presents to other planets! To accurately calculate his position in space, safely align his warp drive, and return to Earth in time to save Christmas, he needs you to bring him measurements from fifty stars.\n",
    "\n",
    "Collect stars by solving puzzles. Two puzzles will be made available on each day in the Advent calendar; the second puzzle is unlocked when you complete the first. Each puzzle grants one star. Good luck!\n",
    "\n",
    "The Elves quickly load you into a spacecraft and prepare to launch.\n",
    "\n",
    "At the first Go / No Go poll, every Elf is Go until the Fuel Counter-Upper. They haven't determined the amount of fuel required yet.\n",
    "\n",
    "Fuel required to launch a given module is based on its mass. Specifically, to find the fuel required for a module, take its mass, divide by three, round down, and subtract 2.\n",
    "\n",
    "For example:\n",
    "\n",
    "For a mass of 12, divide by 3 and round down to get 4, then subtract 2 to get 2.\n",
    "For a mass of 14, dividing by 3 and rounding down still yields 4, so the fuel required is also 2.\n",
    "For a mass of 1969, the fuel required is 654.\n",
    "For a mass of 100756, the fuel required is 33583.\n",
    "The Fuel Counter-Upper needs to know the total fuel requirement. To find it, individually calculate the fuel needed for the mass of each module (your puzzle input), then add together all the fuel values.\n",
    "\n",
    "What is the sum of the fuel requirements for all of the modules on your spacecraft?"
   ]
  },
  {
   "cell_type": "code",
   "execution_count": 5,
   "metadata": {},
   "outputs": [
    {
     "name": "stdout",
     "output_type": "stream",
     "text": [
      "['140005', '95473', '139497', '62962', '61114', '66330', '54137', '77360', '108752', '142999', '92160', '65690', '139896', '135072', '141864', '145599', '140998', '134694', '126576', '141438', '112238', '77339', '116736', '64294', '77811', '83634', '102059', '146691', '104534', '61196', '105119', '125791', '124352', '125501', '68498', '96795', '82878', '126702', '74334', '126798', '131179', '109231', '101065', '115470', '54542', '148706', '101296', '63312', '85799', '98328', '105926', '101047', '85470', '78531', '52510', '98761', '123019', '79495', '74902', '103869', '57090', '138222', '121620', '109994', '64769', '148785', '132349', '80485', '95575', '66123', '56283', '101019', '142671', '147116', '148490', '114580', '107192', '115741', '107455', '62769', '139998', '146798', '90032', '72028', '144485', '91251', '51054', '148665', '113542', '148607', '141060', '88025', '109776', '62421', '64482', '130387', '120481', '135012', '55101', '67926']\n"
     ]
    }
   ],
   "source": [
    "import math\n",
    "with open('input.txt') as f:\n",
    "    content = f.readlines()\n",
    "# you may also want to remove whitespace characters like `\\n` at the end of each line\n",
    "content = [x.strip() for x in content]\n",
    "\n",
    "print(content)"
   ]
  },
  {
   "cell_type": "code",
   "execution_count": 2,
   "metadata": {},
   "outputs": [],
   "source": [
    "int_fuel_counter = []"
   ]
  },
  {
   "cell_type": "code",
   "execution_count": 3,
   "metadata": {},
   "outputs": [
    {
     "name": "stdout",
     "output_type": "stream",
     "text": [
      "[140005, 95473, 139497, 62962, 61114, 66330, 54137, 77360, 108752, 142999, 92160, 65690, 139896, 135072, 141864, 145599, 140998, 134694, 126576, 141438, 112238, 77339, 116736, 64294, 77811, 83634, 102059, 146691, 104534, 61196, 105119, 125791, 124352, 125501, 68498, 96795, 82878, 126702, 74334, 126798, 131179, 109231, 101065, 115470, 54542, 148706, 101296, 63312, 85799, 98328, 105926, 101047, 85470, 78531, 52510, 98761, 123019, 79495, 74902, 103869, 57090, 138222, 121620, 109994, 64769, 148785, 132349, 80485, 95575, 66123, 56283, 101019, 142671, 147116, 148490, 114580, 107192, 115741, 107455, 62769, 139998, 146798, 90032, 72028, 144485, 91251, 51054, 148665, 113542, 148607, 141060, 88025, 109776, 62421, 64482, 130387, 120481, 135012, 55101, 67926]\n"
     ]
    }
   ],
   "source": [
    "for f in content:\n",
    "    int_fuel_counter.append(int(f))\n",
    "print(int_fuel_counter)"
   ]
  },
  {
   "cell_type": "code",
   "execution_count": 4,
   "metadata": {},
   "outputs": [],
   "source": [
    "req_fuel = 0"
   ]
  },
  {
   "cell_type": "code",
   "execution_count": 6,
   "metadata": {},
   "outputs": [],
   "source": [
    "for fuel in int_fuel_counter:\n",
    "    req_fuel += math.floor(fuel/3) - 2"
   ]
  },
  {
   "cell_type": "code",
   "execution_count": 7,
   "metadata": {},
   "outputs": [
    {
     "data": {
      "text/plain": [
       "3455717"
      ]
     },
     "execution_count": 7,
     "metadata": {},
     "output_type": "execute_result"
    }
   ],
   "source": [
    "req_fuel"
   ]
  },
  {
   "cell_type": "markdown",
   "metadata": {},
   "source": [
    "--- Part Two ---\n",
    "During the second Go / No Go poll, the Elf in charge of the Rocket Equation Double-Checker stops the launch sequence. Apparently, you forgot to include additional fuel for the fuel you just added.\n",
    "\n",
    "Fuel itself requires fuel just like a module - take its mass, divide by three, round down, and subtract 2. However, that fuel also requires fuel, and that fuel requires fuel, and so on. Any mass that would require negative fuel should instead be treated as if it requires zero fuel; the remaining mass, if any, is instead handled by wishing really hard, which has no mass and is outside the scope of this calculation.\n",
    "\n",
    "So, for each module mass, calculate its fuel and add it to the total. Then, treat the fuel amount you just calculated as the input mass and repeat the process, continuing until a fuel requirement is zero or negative. For example:\n",
    "\n",
    "A module of mass 14 requires 2 fuel. This fuel requires no further fuel (2 divided by 3 and rounded down is 0, which would call for a negative fuel), so the total fuel required is still just 2.\n",
    "At first, a module of mass 1969 requires 654 fuel. Then, this fuel requires 216 more fuel (654 / 3 - 2). 216 then requires 70 more fuel, which requires 21 fuel, which requires 5 fuel, which requires no further fuel. So, the total fuel required for a module of mass 1969 is 654 + 216 + 70 + 21 + 5 = 966.\n",
    "The fuel required by a module of mass 100756 and its fuel is: 33583 + 11192 + 3728 + 1240 + 411 + 135 + 43 + 12 + 2 = 50346.\n",
    "What is the sum of the fuel requirements for all of the modules on your spacecraft when also taking into account the mass of the added fuel? (Calculate the fuel requirements for each module separately, then add them all up at the end.)"
   ]
  },
  {
   "cell_type": "code",
   "execution_count": 33,
   "metadata": {},
   "outputs": [],
   "source": [
    "total_fuel = 0"
   ]
  },
  {
   "cell_type": "code",
   "execution_count": 34,
   "metadata": {},
   "outputs": [],
   "source": [
    "def count_fuel(fuel):\n",
    "    if math.floor(fuel/3) - 2 > 0:\n",
    "        req_fuel = math.floor(fuel/3) - 2\n",
    "        req_fuel += count_fuel(req_fuel)\n",
    "        return req_fuel\n",
    "    else:\n",
    "        return 0"
   ]
  },
  {
   "cell_type": "code",
   "execution_count": 35,
   "metadata": {},
   "outputs": [],
   "source": [
    "for fuel in int_fuel_counter:\n",
    "    total_fuel += count_fuel(fuel)"
   ]
  },
  {
   "cell_type": "code",
   "execution_count": 36,
   "metadata": {},
   "outputs": [
    {
     "data": {
      "text/plain": [
       "5180690"
      ]
     },
     "execution_count": 36,
     "metadata": {},
     "output_type": "execute_result"
    }
   ],
   "source": [
    "total_fuel"
   ]
  },
  {
   "cell_type": "code",
   "execution_count": 27,
   "metadata": {},
   "outputs": [
    {
     "name": "stdout",
     "output_type": "stream",
     "text": [
      "33583\n",
      "11192\n",
      "3728\n",
      "1240\n",
      "411\n",
      "135\n",
      "43\n",
      "12\n",
      "2\n",
      "50346\n"
     ]
    }
   ],
   "source": [
    "print(count_fuel(100756))"
   ]
  },
  {
   "cell_type": "code",
   "execution_count": null,
   "metadata": {},
   "outputs": [],
   "source": []
  }
 ],
 "metadata": {
  "kernelspec": {
   "display_name": "Python 3",
   "language": "python",
   "name": "python3"
  },
  "language_info": {
   "codemirror_mode": {
    "name": "ipython",
    "version": 3
   },
   "file_extension": ".py",
   "mimetype": "text/x-python",
   "name": "python",
   "nbconvert_exporter": "python",
   "pygments_lexer": "ipython3",
   "version": "3.7.0"
  }
 },
 "nbformat": 4,
 "nbformat_minor": 2
}
