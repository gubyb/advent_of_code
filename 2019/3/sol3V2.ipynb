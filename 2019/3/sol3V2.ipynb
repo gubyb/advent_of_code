{
 "cells": [
  {
   "cell_type": "code",
   "execution_count": 43,
   "metadata": {},
   "outputs": [],
   "source": [
    "def process_line(lines):\n",
    "    wires = []\n",
    "    for line in lines:\n",
    "        current_pos = [0, 0]\n",
    "        wire = []\n",
    "        for instr in line.split(','):\n",
    "            for _ in range(int(instr[1:])):\n",
    "                if instr[0] in ('L', 'R'):\n",
    "                    \"\"\"X-lED\"\"\"\n",
    "                    current_pos[0] += -1 if instr[0] in ('L', 'D') else 1\n",
    "                else:\n",
    "                    \"\"\"Y-lED\"\"\"\n",
    "                    current_pos[1] += -1 if instr[0] in ('L', 'D') else 1\n",
    "                wire.append(tuple(current_pos))\n",
    "        wires.append(wire)\n",
    "    return wires"
   ]
  },
  {
   "cell_type": "markdown",
   "metadata": {},
   "source": [
    "# Final"
   ]
  },
  {
   "cell_type": "code",
   "execution_count": 73,
   "metadata": {},
   "outputs": [
    {
     "name": "stdout",
     "output_type": "stream",
     "text": [
      "225\n",
      "35194\n"
     ]
    }
   ],
   "source": [
    "with open('input.txt') as f:\n",
    "    lines = f.readlines()\n",
    "# you may also want to remove whitespace characters like `\\n` at the end of each line\n",
    "lines = [x.strip() for x in lines]\n",
    "\n",
    "wires = process_line(lines)\n",
    "intersections = set(wires[0]) & set(wires[1])\n",
    "print(min(abs(x)+abs(y) for (x, y) in intersections)) #Part 1\n",
    "\n",
    "intersect_steps = []\n",
    "for intersect in intersections:\n",
    "    steps = 0\n",
    "    for wire in wires:\n",
    "        steps += wire.index(intersect)\n",
    "    intersect_steps.append(steps + 2)\n",
    "print(min(intersect_steps))"
   ]
  },
  {
   "cell_type": "markdown",
   "metadata": {},
   "source": [
    "# Test"
   ]
  },
  {
   "cell_type": "code",
   "execution_count": 80,
   "metadata": {},
   "outputs": [
    {
     "name": "stdout",
     "output_type": "stream",
     "text": [
      "135\n",
      "410\n"
     ]
    }
   ],
   "source": [
    "with open('test_input.txt') as f:\n",
    "    lines = f.readlines()\n",
    "# you may also want to remove whitespace characters like `\\n` at the end of each line\n",
    "lines = [x.strip() for x in lines]\n",
    "\n",
    "wires = process_line(lines)\n",
    "intersections = set(wires[0]) & set(wires[1])\n",
    "print(min(abs(x)+abs(y) for (x, y) in intersections)) #Part 1\n",
    "\n",
    "intersect_steps = []\n",
    "for intersect in intersections:\n",
    "    steps = 0\n",
    "    for wire in wires:\n",
    "        steps += wire.index(intersect)\n",
    "    intersect_steps.append(steps + 2)\n",
    "print(min(intersect_steps))"
   ]
  },
  {
   "cell_type": "code",
   "execution_count": null,
   "metadata": {},
   "outputs": [],
   "source": []
  },
  {
   "cell_type": "code",
   "execution_count": null,
   "metadata": {},
   "outputs": [],
   "source": []
  },
  {
   "cell_type": "code",
   "execution_count": null,
   "metadata": {},
   "outputs": [],
   "source": []
  }
 ],
 "metadata": {
  "kernelspec": {
   "display_name": "Python 3",
   "language": "python",
   "name": "python3"
  },
  "language_info": {
   "codemirror_mode": {
    "name": "ipython",
    "version": 3
   },
   "file_extension": ".py",
   "mimetype": "text/x-python",
   "name": "python",
   "nbconvert_exporter": "python",
   "pygments_lexer": "ipython3",
   "version": "3.7.0"
  }
 },
 "nbformat": 4,
 "nbformat_minor": 2
}
