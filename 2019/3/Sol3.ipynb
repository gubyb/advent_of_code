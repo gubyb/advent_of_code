{
 "cells": [
  {
   "cell_type": "code",
   "execution_count": 296,
   "metadata": {},
   "outputs": [],
   "source": [
    "import numpy as np\n",
    "o_pos = (0,0)"
   ]
  },
  {
   "cell_type": "code",
   "execution_count": 291,
   "metadata": {},
   "outputs": [],
   "source": [
    "def make_wire_info(wires):\n",
    "    wire_list = []\n",
    "    for wire_info in wires:\n",
    "        wire_list.append({\n",
    "            'dir' : wire_info[0:1],\n",
    "            'steps' : int(wire_info[1:]),\n",
    "        })\n",
    "    return wire_list"
   ]
  },
  {
   "cell_type": "code",
   "execution_count": 292,
   "metadata": {},
   "outputs": [],
   "source": [
    "def make_wire_graph(start_pos, wires_1):\n",
    "    graph = []\n",
    "    last_pos = start_pos\n",
    "    for wire_info in wires_1:\n",
    "        if wire_info['dir'] == 'U':\n",
    "            new_pos = (last_pos[0], last_pos[1] + wire_info['steps'])\n",
    "            graph.append((last_pos, new_pos))\n",
    "        elif wire_info['dir'] == 'D':\n",
    "            new_pos = (last_pos[0], last_pos[1] - wire_info['steps'])\n",
    "            graph.append((last_pos, new_pos))\n",
    "        elif wire_info['dir'] == 'R':\n",
    "            new_pos = (last_pos[0] + wire_info['steps'], last_pos[1])\n",
    "            graph.append((last_pos, new_pos))\n",
    "        elif wire_info['dir'] == 'L':\n",
    "            new_pos = (last_pos[0] - wire_info['steps'], last_pos[1])\n",
    "            graph.append((last_pos, new_pos))\n",
    "        last_pos = new_pos\n",
    "    return graph"
   ]
  },
  {
   "cell_type": "code",
   "execution_count": 298,
   "metadata": {},
   "outputs": [],
   "source": [
    "def find_intersection(wire_to_check, wires, intersections):\n",
    "    check_x_set = set(range(min(wire_to_check[0][0], wire_to_check[1][0]), max(wire_to_check[0][0], wire_to_check[1][0])))\n",
    "    check_y_set = set(range(min(wire_to_check[0][1], wire_to_check[1][1]), max(wire_to_check[0][1], wire_to_check[1][1])))\n",
    "    if check_x_set == set():\n",
    "        check_x_set.add(wire_to_check[0][0])\n",
    "    if check_y_set == set():\n",
    "        check_y_set.add(wire_to_check[0][1])\n",
    "    for wire in wires:\n",
    "        x_set = set(range(min(wire[0][0], wire[1][0]), max(wire[0][0], wire[1][0])))\n",
    "        y_set = set(range(min(wire[0][1], wire[1][1]), max(wire[0][1], wire[1][1])))\n",
    "        \n",
    "        if x_set == set():\n",
    "            x_set.add(wire[0][0])\n",
    "        if y_set == set():\n",
    "            y_set.add(wire[0][1])\n",
    "            \n",
    "        x_intersect = set()\n",
    "        y_intersect = set()\n",
    "        x_intersect = check_x_set.intersection(x_set)\n",
    "        y_intersect = check_y_set.intersection(y_set)\n",
    "        while x_intersect != set() and y_intersect != set():\n",
    "            x = x_intersect.pop()\n",
    "            y = y_intersect.pop()\n",
    "            if x != 0 and y != 0:\n",
    "                intersections.add((x,y))\n",
    "    return intersections"
   ]
  },
  {
   "cell_type": "code",
   "execution_count": 294,
   "metadata": {},
   "outputs": [],
   "source": [
    "def find_closest(intersections):\n",
    "    closest_intersection = None\n",
    "    while intersections != set():\n",
    "        intersection = intersections.pop()\n",
    "        tot_dist = abs(intersection[0]) + abs(intersection[1])\n",
    "        print(tot_dist)\n",
    "        if closest_intersection == None or closest_intersection > tot_dist:\n",
    "            closest_intersection = tot_dist\n",
    "    print(closest_intersection)"
   ]
  },
  {
   "cell_type": "code",
   "execution_count": 299,
   "metadata": {},
   "outputs": [
    {
     "name": "stdout",
     "output_type": "stream",
     "text": [
      "{(3, 3), (6, 5)}\n",
      "6\n",
      "11\n",
      "6\n"
     ]
    }
   ],
   "source": [
    "test_wires_1 = make_wire_info('R8,U5,L5,D3'.split(','))\n",
    "test_wires_2 = make_wire_info('U7,R6,D4,L4'.split(','))\n",
    "test_wire_graph_1 = make_wire_graph(o_pos, test_wires_1)\n",
    "test_wire_graph_2 = make_wire_graph(o_pos, test_wires_2)\n",
    "\n",
    "intersections = set()\n",
    "for test_wire in test_wire_graph_1:\n",
    "    intersections.union(find_intersection(test_wire, test_wire_graph_2, intersections))\n",
    "print(intersections)\n",
    "find_closest(intersections)"
   ]
  },
  {
   "cell_type": "code",
   "execution_count": 300,
   "metadata": {},
   "outputs": [
    {
     "name": "stdout",
     "output_type": "stream",
     "text": [
      "{(107, 71), (157, 18), (124, 11), (107, 47), (107, 51)}\n",
      "178\n",
      "175\n",
      "135\n",
      "154\n",
      "158\n",
      "135\n"
     ]
    }
   ],
   "source": [
    "test_wires_1 = make_wire_info('R98,U47,R26,D63,R33,U87,L62,D20,R33,U53,R51'.split(','))\n",
    "test_wires_2 = make_wire_info('U98,R91,D20,R16,D67,R40,U7,R15,U6,R7'.split(','))\n",
    "test_wire_graph_1 = make_wire_graph(o_pos, test_wires_1)\n",
    "test_wire_graph_2 = make_wire_graph(o_pos, test_wires_2)\n",
    "\n",
    "intersections = set()\n",
    "for test_wire in test_wire_graph_1:\n",
    "    intersections.union(find_intersection(test_wire, test_wire_graph_2, intersections))\n",
    "print(intersections)\n",
    "find_closest(intersections)"
   ]
  },
  {
   "cell_type": "code",
   "execution_count": 301,
   "metadata": {},
   "outputs": [
    {
     "name": "stdout",
     "output_type": "stream",
     "text": [
      "{(158, -12), (146, 46), (155, 4), (155, 11)}\n",
      "170\n",
      "192\n",
      "159\n",
      "166\n",
      "159\n"
     ]
    }
   ],
   "source": [
    "test_wires_1 = make_wire_info('R75,D30,R83,U83,L12,D49,R71,U7,L72'.split(','))\n",
    "test_wires_2 = make_wire_info('U62,R66,U55,R34,D71,R55,D58,R83'.split(','))\n",
    "test_wire_graph_1 = make_wire_graph(o_pos, test_wires_1)\n",
    "test_wire_graph_2 = make_wire_graph(o_pos, test_wires_2)\n",
    "\n",
    "intersections = set()\n",
    "for test_wire in test_wire_graph_1:\n",
    "    intersections.union(find_intersection(test_wire, test_wire_graph_2, intersections))\n",
    "print(intersections)\n",
    "find_closest(intersections)"
   ]
  },
  {
   "cell_type": "code",
   "execution_count": 288,
   "metadata": {},
   "outputs": [
    {
     "name": "stdout",
     "output_type": "stream",
     "text": [
      "{(538, 24), (835, 591), (789, 192), (835, 192), (938, 16), (-571, 326), (721, 318), (1010, 804), (963, 286), (835, 286), (638, 540), (1141, 804), (1010, 435), (-2738, 1295), (1321, 804), (538, 16), (-102, 883), (-1397, -218), (1672, 804), (-628, 2), (-2229, 932), (-1545, -161), (1672, 342), (938, 77), (538, 318), (1138, 370), (638, 435), (225, 0), (80, 627), (789, 370), (-1610, 247), (1426, 302), (1139, 804), (789, 286), (80, 694), (835, 370), (-2738, 975), (-478, 514), (721, 16), (1138, 384), (347, 347), (-571, 268), (-2383, 1665), (721, 24), (638, 318), (1009, 16)}\n",
      "560\n",
      "1424\n",
      "979\n",
      "1025\n",
      "952\n",
      "897\n",
      "1037\n",
      "1812\n",
      "1247\n",
      "1119\n",
      "1176\n",
      "1943\n",
      "1443\n",
      "4033\n",
      "2123\n",
      "552\n",
      "985\n",
      "1617\n",
      "2474\n",
      "630\n",
      "3161\n",
      "1708\n",
      "2012\n",
      "1013\n",
      "854\n",
      "1506\n",
      "1071\n",
      "225\n",
      "705\n",
      "1157\n",
      "1857\n",
      "1726\n",
      "1941\n",
      "1073\n",
      "772\n",
      "1203\n",
      "3713\n",
      "992\n",
      "735\n",
      "1520\n",
      "692\n",
      "839\n",
      "4048\n",
      "743\n",
      "954\n",
      "1023\n",
      "225\n"
     ]
    }
   ],
   "source": [
    "with open('input.txt') as f:\n",
    "    content = f.readlines()\n",
    "# you may also want to remove whitespace characters like `\\n` at the end of each line\n",
    "content = [x.strip() for x in content]\n",
    "wires_1 = make_wire_info(content[0].split(','))\n",
    "wires_2 = make_wire_info(content[1].split(','))\n",
    "wire_graph_1 = make_wire_graph(o_pos, wires_1)\n",
    "wire_graph_2 = make_wire_graph(o_pos, wires_2)\n",
    "\n",
    "intersections = set()\n",
    "for wire in wire_graph_1:\n",
    "    intersections.union(find_intersection(wire, wire_graph_2, intersections))\n",
    "print(intersections)\n",
    "intersections_to_check = intersections\n",
    "find_closest(intersections_to_check)"
   ]
  },
  {
   "cell_type": "code",
   "execution_count": 304,
   "metadata": {},
   "outputs": [],
   "source": [
    "intersections = {(538, 24), (835, 591), (789, 192), (835, 192), (938, 16), (-571, 326), (721, 318), (1010, 804), (963, 286), (835, 286), (638, 540), (1141, 804), (1010, 435), (-2738, 1295), (1321, 804), (538, 16), (-102, 883), (-1397, -218), (1672, 804), (-628, 2), (-2229, 932), (-1545, -161), (1672, 342), (938, 77), (538, 318), (1138, 370), (638, 435), (225, 0), (80, 627), (789, 370), (-1610, 247), (1426, 302), (1139, 804), (789, 286), (80, 694), (835, 370), (-2738, 975), (-478, 514), (721, 16), (1138, 384), (347, 347), (-571, 268), (-2383, 1665), (721, 24), (638, 318), (1009, 16)}"
   ]
  },
  {
   "cell_type": "code",
   "execution_count": 305,
   "metadata": {},
   "outputs": [],
   "source": [
    "def find_intersection_and_steps(wire_to_check, wires, intersections):\n",
    "    check_x_set = set(range(min(wire_to_check[0][0], wire_to_check[1][0]), max(wire_to_check[0][0], wire_to_check[1][0])))\n",
    "    check_y_set = set(range(min(wire_to_check[0][1], wire_to_check[1][1]), max(wire_to_check[0][1], wire_to_check[1][1])))\n",
    "    if check_x_set == set():\n",
    "        check_x_set.add(wire_to_check[0][0])\n",
    "    if check_y_set == set():\n",
    "        check_y_set.add(wire_to_check[0][1])\n",
    "    for wire in wires:\n",
    "        x_set = set(range(min(wire[0][0], wire[1][0]), max(wire[0][0], wire[1][0])))\n",
    "        y_set = set(range(min(wire[0][1], wire[1][1]), max(wire[0][1], wire[1][1])))\n",
    "        \n",
    "        if x_set == set():\n",
    "            x_set.add(wire[0][0])\n",
    "        if y_set == set():\n",
    "            y_set.add(wire[0][1])\n",
    "            \n",
    "        x_intersect = set()\n",
    "        y_intersect = set()\n",
    "        x_intersect = check_x_set.intersection(x_set)\n",
    "        y_intersect = check_y_set.intersection(y_set)\n",
    "        while x_intersect != set() and y_intersect != set():\n",
    "            x = x_intersect.pop()\n",
    "            y = y_intersect.pop()\n",
    "            if x != 0 and y != 0:\n",
    "                intersections.add((x,y))\n",
    "    return intersections"
   ]
  },
  {
   "cell_type": "code",
   "execution_count": null,
   "metadata": {},
   "outputs": [],
   "source": []
  }
 ],
 "metadata": {
  "kernelspec": {
   "display_name": "Python 3",
   "language": "python",
   "name": "python3"
  },
  "language_info": {
   "codemirror_mode": {
    "name": "ipython",
    "version": 3
   },
   "file_extension": ".py",
   "mimetype": "text/x-python",
   "name": "python",
   "nbconvert_exporter": "python",
   "pygments_lexer": "ipython3",
   "version": "3.7.0"
  }
 },
 "nbformat": 4,
 "nbformat_minor": 2
}
